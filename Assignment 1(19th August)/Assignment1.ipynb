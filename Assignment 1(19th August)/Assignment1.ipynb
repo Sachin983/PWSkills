{
  "nbformat": 4,
  "nbformat_minor": 0,
  "metadata": {
    "colab": {
      "provenance": []
    },
    "kernelspec": {
      "name": "python3",
      "display_name": "Python 3"
    },
    "language_info": {
      "name": "python"
    }
  },
  "cells": [
    {
      "cell_type": "markdown",
      "source": [
        "1. Declare two variables, `x` and `y`, and assign them integer values. Swap the\n",
        "values of these variables without using any temporary variable."
      ],
      "metadata": {
        "id": "bo1hB1FoXR0D"
      }
    },
    {
      "cell_type": "code",
      "source": [
        "x=23\n",
        "y=56\n",
        "x=x+y\n",
        "y=x-y\n",
        "x=x-y\n",
        "\n",
        "print(\"Swapped Variables are: \\n\",\"x=\",x ,\"y=\",y)"
      ],
      "metadata": {
        "colab": {
          "base_uri": "https://localhost:8080/"
        },
        "id": "O0hvB_3TXeNR",
        "outputId": "6704a4d8-44df-487d-ddbb-64b1e2f96cb6"
      },
      "execution_count": 3,
      "outputs": [
        {
          "output_type": "stream",
          "name": "stdout",
          "text": [
            "Swapped Variables are: \n",
            " x= 56 y= 23\n"
          ]
        }
      ]
    },
    {
      "cell_type": "code",
      "source": [],
      "metadata": {
        "id": "7J13IM8nX-rb"
      },
      "execution_count": null,
      "outputs": []
    }
  ]
}