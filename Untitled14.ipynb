{
  "nbformat": 4,
  "nbformat_minor": 0,
  "metadata": {
    "colab": {
      "provenance": [],
      "gpuType": "T4",
      "authorship_tag": "ABX9TyMfYtK1P0uoHoEcPPh0trTN",
      "include_colab_link": true
    },
    "kernelspec": {
      "name": "python3",
      "display_name": "Python 3"
    },
    "language_info": {
      "name": "python"
    },
    "accelerator": "GPU"
  },
  "cells": [
    {
      "cell_type": "markdown",
      "metadata": {
        "id": "view-in-github",
        "colab_type": "text"
      },
      "source": [
        "<a href=\"https://colab.research.google.com/github/Sachin983/PWSkills/blob/main/Untitled14.ipynb\" target=\"_parent\"><img src=\"https://colab.research.google.com/assets/colab-badge.svg\" alt=\"Open In Colab\"/></a>"
      ]
    },
    {
      "cell_type": "code",
      "execution_count": null,
      "metadata": {
        "colab": {
          "base_uri": "https://localhost:8080/"
        },
        "id": "v3aDtqaFzNQY",
        "outputId": "49f8f3ef-edb7-41a4-927d-f51e9f426bb5"
      },
      "outputs": [
        {
          "output_type": "stream",
          "name": "stdout",
          "text": [
            "India\n"
          ]
        }
      ],
      "source": [
        "S=\"India\"\n",
        "print(S)"
      ]
    },
    {
      "cell_type": "code",
      "source": [
        "type(S)"
      ],
      "metadata": {
        "colab": {
          "base_uri": "https://localhost:8080/"
        },
        "id": "0JfncfjFzU84",
        "outputId": "cd77c249-bd33-4610-fcfb-e94f67487c29"
      },
      "execution_count": null,
      "outputs": [
        {
          "output_type": "execute_result",
          "data": {
            "text/plain": [
              "str"
            ]
          },
          "metadata": {},
          "execution_count": 2
        }
      ]
    },
    {
      "cell_type": "code",
      "source": [
        "S=\"India\"\n",
        "print(S)\n",
        "for i in (S):\n",
        "  print(i)"
      ],
      "metadata": {
        "colab": {
          "base_uri": "https://localhost:8080/"
        },
        "id": "DHhtpSJdzYEO",
        "outputId": "44d8cfa5-871a-4de7-dacf-9121a1dbe1f1"
      },
      "execution_count": null,
      "outputs": [
        {
          "output_type": "stream",
          "name": "stdout",
          "text": [
            "India\n",
            "I\n",
            "n\n",
            "d\n",
            "i\n",
            "a\n"
          ]
        }
      ]
    },
    {
      "cell_type": "code",
      "source": [
        "for i in range(1,100):\n",
        "  print(i)"
      ],
      "metadata": {
        "colab": {
          "base_uri": "https://localhost:8080/"
        },
        "id": "lQgJfTEyzhkd",
        "outputId": "4c031cb5-434c-4795-da6a-69d98a9f5e77"
      },
      "execution_count": null,
      "outputs": [
        {
          "output_type": "stream",
          "name": "stdout",
          "text": [
            "1\n",
            "2\n",
            "3\n",
            "4\n",
            "5\n",
            "6\n",
            "7\n",
            "8\n",
            "9\n",
            "10\n",
            "11\n",
            "12\n",
            "13\n",
            "14\n",
            "15\n",
            "16\n",
            "17\n",
            "18\n",
            "19\n",
            "20\n",
            "21\n",
            "22\n",
            "23\n",
            "24\n",
            "25\n",
            "26\n",
            "27\n",
            "28\n",
            "29\n",
            "30\n",
            "31\n",
            "32\n",
            "33\n",
            "34\n",
            "35\n",
            "36\n",
            "37\n",
            "38\n",
            "39\n",
            "40\n",
            "41\n",
            "42\n",
            "43\n",
            "44\n",
            "45\n",
            "46\n",
            "47\n",
            "48\n",
            "49\n",
            "50\n",
            "51\n",
            "52\n",
            "53\n",
            "54\n",
            "55\n",
            "56\n",
            "57\n",
            "58\n",
            "59\n",
            "60\n",
            "61\n",
            "62\n",
            "63\n",
            "64\n",
            "65\n",
            "66\n",
            "67\n",
            "68\n",
            "69\n",
            "70\n",
            "71\n",
            "72\n",
            "73\n",
            "74\n",
            "75\n",
            "76\n",
            "77\n",
            "78\n",
            "79\n",
            "80\n",
            "81\n",
            "82\n",
            "83\n",
            "84\n",
            "85\n",
            "86\n",
            "87\n",
            "88\n",
            "89\n",
            "90\n",
            "91\n",
            "92\n",
            "93\n",
            "94\n",
            "95\n",
            "96\n",
            "97\n",
            "98\n",
            "99\n"
          ]
        }
      ]
    },
    {
      "cell_type": "code",
      "source": [
        "for i in range(2,100,2):\n",
        "  print(i)"
      ],
      "metadata": {
        "id": "0RcNduVqIprR"
      },
      "execution_count": null,
      "outputs": []
    },
    {
      "cell_type": "code",
      "source": [
        "for i in range(2,100):\n",
        "  print(i)\n",
        "  i=i+2"
      ],
      "metadata": {
        "colab": {
          "base_uri": "https://localhost:8080/"
        },
        "id": "poAa0xrfI3ut",
        "outputId": "a278b2ee-756b-40db-9634-2f2195832975"
      },
      "execution_count": null,
      "outputs": [
        {
          "output_type": "stream",
          "name": "stdout",
          "text": [
            "2\n",
            "3\n",
            "4\n",
            "5\n",
            "6\n",
            "7\n",
            "8\n",
            "9\n",
            "10\n",
            "11\n",
            "12\n",
            "13\n",
            "14\n",
            "15\n",
            "16\n",
            "17\n",
            "18\n",
            "19\n",
            "20\n",
            "21\n",
            "22\n",
            "23\n",
            "24\n",
            "25\n",
            "26\n",
            "27\n",
            "28\n",
            "29\n",
            "30\n",
            "31\n",
            "32\n",
            "33\n",
            "34\n",
            "35\n",
            "36\n",
            "37\n",
            "38\n",
            "39\n",
            "40\n",
            "41\n",
            "42\n",
            "43\n",
            "44\n",
            "45\n",
            "46\n",
            "47\n",
            "48\n",
            "49\n",
            "50\n",
            "51\n",
            "52\n",
            "53\n",
            "54\n",
            "55\n",
            "56\n",
            "57\n",
            "58\n",
            "59\n",
            "60\n",
            "61\n",
            "62\n",
            "63\n",
            "64\n",
            "65\n",
            "66\n",
            "67\n",
            "68\n",
            "69\n",
            "70\n",
            "71\n",
            "72\n",
            "73\n",
            "74\n",
            "75\n",
            "76\n",
            "77\n",
            "78\n",
            "79\n",
            "80\n",
            "81\n",
            "82\n",
            "83\n",
            "84\n",
            "85\n",
            "86\n",
            "87\n",
            "88\n",
            "89\n",
            "90\n",
            "91\n",
            "92\n",
            "93\n",
            "94\n",
            "95\n",
            "96\n",
            "97\n",
            "98\n",
            "99\n"
          ]
        }
      ]
    },
    {
      "cell_type": "code",
      "source": [
        "values=[\"red\",\"big\",\"tasty\"]\n",
        "fruits=[\"apple\",\"pumpkin\",\"mangoes\"]\n",
        "\n",
        "for x in values:\n",
        "  for y in fruits:\n",
        "    print(x,y)"
      ],
      "metadata": {
        "colab": {
          "base_uri": "https://localhost:8080/"
        },
        "id": "w-h6SoA0JRml",
        "outputId": "7b235437-2b90-48cb-ee93-0bd3c9784522"
      },
      "execution_count": null,
      "outputs": [
        {
          "output_type": "stream",
          "name": "stdout",
          "text": [
            "red apple\n",
            "red pumpkin\n",
            "red mangoes\n",
            "big apple\n",
            "big pumpkin\n",
            "big mangoes\n",
            "tasty apple\n",
            "tasty pumpkin\n",
            "tasty mangoes\n"
          ]
        }
      ]
    },
    {
      "cell_type": "code",
      "source": [
        "for x in range(1,5):\n",
        "  for y in range(1,5):\n",
        "    print(x,y)"
      ],
      "metadata": {
        "colab": {
          "base_uri": "https://localhost:8080/"
        },
        "id": "d2QOXM3SLSY6",
        "outputId": "509a750d-6bf5-4497-d681-30ca15a9cc9e"
      },
      "execution_count": null,
      "outputs": [
        {
          "output_type": "stream",
          "name": "stdout",
          "text": [
            "1 1\n",
            "1 2\n",
            "1 3\n",
            "1 4\n",
            "2 1\n",
            "2 2\n",
            "2 3\n",
            "2 4\n",
            "3 1\n",
            "3 2\n",
            "3 3\n",
            "3 4\n",
            "4 1\n",
            "4 2\n",
            "4 3\n",
            "4 4\n"
          ]
        }
      ]
    },
    {
      "cell_type": "code",
      "source": [
        "def pypart(n):\n",
        "    myList = []\n",
        "    for i in range(1,n+1):\n",
        "        myList.append(\"*\"*i)\n",
        "    print(\"\\n\".join(myList))\n",
        "\n",
        "# Driver Code\n",
        "pypart(7)"
      ],
      "metadata": {
        "colab": {
          "base_uri": "https://localhost:8080/"
        },
        "id": "_pE9bSYfLkkT",
        "outputId": "40ca1650-1c27-44cf-b991-dd097a6d27b7"
      },
      "execution_count": null,
      "outputs": [
        {
          "output_type": "stream",
          "name": "stdout",
          "text": [
            "*\n",
            "**\n",
            "***\n",
            "****\n",
            "*****\n",
            "******\n",
            "*******\n"
          ]
        }
      ]
    },
    {
      "cell_type": "code",
      "source": [
        "def pattern(n):\n",
        "  my_list=[]\n",
        "  for i in range(1,n+1):\n",
        "    my_list.append(\"*\"*i)\n",
        "  print(\"\\n\".join(my_list))"
      ],
      "metadata": {
        "id": "5X7RvlZgMJ_i"
      },
      "execution_count": null,
      "outputs": []
    },
    {
      "cell_type": "code",
      "source": [
        "pattern(7)"
      ],
      "metadata": {
        "colab": {
          "base_uri": "https://localhost:8080/"
        },
        "id": "Dit5x_13Sjl7",
        "outputId": "66acc8a5-0023-4e11-e7d2-322a6275762a"
      },
      "execution_count": null,
      "outputs": [
        {
          "output_type": "stream",
          "name": "stdout",
          "text": [
            "*\n",
            "**\n",
            "***\n",
            "****\n",
            "*****\n",
            "******\n",
            "*******\n"
          ]
        }
      ]
    },
    {
      "cell_type": "code",
      "source": [
        "def list_pattern(n):\n",
        "  my_list = [\"*\"*i for i in range(1,n+1)]\n",
        "  print(\"\\n\".join(my_list))"
      ],
      "metadata": {
        "id": "KxUCZ_LISlx6"
      },
      "execution_count": null,
      "outputs": []
    },
    {
      "cell_type": "code",
      "source": [
        "list_pattern(7)"
      ],
      "metadata": {
        "colab": {
          "base_uri": "https://localhost:8080/"
        },
        "id": "RJuWPtQhGfiq",
        "outputId": "988ffc21-7775-47c7-e334-8e790ab11595"
      },
      "execution_count": null,
      "outputs": [
        {
          "output_type": "stream",
          "name": "stdout",
          "text": [
            "*\n",
            "**\n",
            "***\n",
            "****\n",
            "*****\n",
            "******\n",
            "*******\n"
          ]
        }
      ]
    },
    {
      "cell_type": "markdown",
      "source": [
        "LIST Data **Structure**\n",
        "\n",
        "\n",
        "\n",
        "\n",
        "\n"
      ],
      "metadata": {
        "id": "flYTDyuFUdn3"
      }
    },
    {
      "cell_type": "markdown",
      "source": [
        "Python-Different ways to create a list\n"
      ],
      "metadata": {
        "id": "OIQd-TmGU3Sg"
      }
    },
    {
      "cell_type": "code",
      "source": [
        "# Method-1 List and integer multiplication\n",
        "my_list=[5]*10"
      ],
      "metadata": {
        "id": "Efjig-gvUt-c"
      },
      "execution_count": null,
      "outputs": []
    },
    {
      "cell_type": "code",
      "source": [
        "print(my_list)"
      ],
      "metadata": {
        "colab": {
          "base_uri": "https://localhost:8080/"
        },
        "id": "D0yNS7iZVRUu",
        "outputId": "981d87c9-afea-4935-a63d-7be333c2885d"
      },
      "execution_count": null,
      "outputs": [
        {
          "output_type": "stream",
          "name": "stdout",
          "text": [
            "[5, 5, 5, 5, 5, 5, 5, 5, 5, 5]\n"
          ]
        }
      ]
    },
    {
      "cell_type": "code",
      "source": [
        "# Method -2 simple loop with append() method"
      ],
      "metadata": {
        "id": "hm5CalEtVVOx"
      },
      "execution_count": null,
      "outputs": []
    },
    {
      "cell_type": "code",
      "source": [
        "my_list=[]\n",
        "for i in range(0,10,2):\n",
        "  my_list.append(\"Python\")\n",
        "print(my_list)"
      ],
      "metadata": {
        "colab": {
          "base_uri": "https://localhost:8080/"
        },
        "id": "RkFU4M-qVfJE",
        "outputId": "49066fb8-a736-491c-8c3d-fcc0b2ad7079"
      },
      "execution_count": null,
      "outputs": [
        {
          "output_type": "stream",
          "name": "stdout",
          "text": [
            "\n",
            "\n",
            "\n",
            "\n",
            "\n",
            "\n",
            "\n",
            "\n",
            "\n",
            "\n",
            "['Python', 'Python', 'Python', 'Python', 'Python']\n"
          ]
        }
      ]
    },
    {
      "cell_type": "code",
      "source": [
        "my_list=[]\n",
        "for i in range(0,5):\n",
        "  my_list+=[i]\n",
        "print(my_list)\n",
        "print(my_list[0])"
      ],
      "metadata": {
        "colab": {
          "base_uri": "https://localhost:8080/"
        },
        "id": "gYF7bNQwVxAD",
        "outputId": "dfbf10d5-107b-4aa0-bc73-df989db9977a"
      },
      "execution_count": null,
      "outputs": [
        {
          "output_type": "stream",
          "name": "stdout",
          "text": [
            "[0, 1, 2, 3, 4]\n",
            "0\n"
          ]
        }
      ]
    },
    {
      "cell_type": "code",
      "source": [
        "# Method-04 : List Comprehension\n",
        "my_list=[\"lyangtoChele\" for i in range(0,30,3)]\n",
        "print(my_list)"
      ],
      "metadata": {
        "colab": {
          "base_uri": "https://localhost:8080/"
        },
        "id": "b17jumGlWXli",
        "outputId": "3f74f01b-3e99-49b2-92f1-924b330f8003"
      },
      "execution_count": null,
      "outputs": [
        {
          "output_type": "stream",
          "name": "stdout",
          "text": [
            "['lyangtoChele', 'lyangtoChele', 'lyangtoChele', 'lyangtoChele', 'lyangtoChele', 'lyangtoChele', 'lyangtoChele', 'lyangtoChele', 'lyangtoChele', 'lyangtoChele']\n"
          ]
        }
      ]
    },
    {
      "cell_type": "code",
      "source": [
        "my_list=[i for i in range(0,30,3)]\n",
        "print(my_list)"
      ],
      "metadata": {
        "colab": {
          "base_uri": "https://localhost:8080/"
        },
        "id": "lsKnCgb9azA2",
        "outputId": "29af2ba9-de59-46ff-e8f6-c3746dec9ef5"
      },
      "execution_count": null,
      "outputs": [
        {
          "output_type": "stream",
          "name": "stdout",
          "text": [
            "[0, 3, 6, 9, 12, 15, 18, 21, 24, 27]\n"
          ]
        }
      ]
    },
    {
      "cell_type": "code",
      "source": [
        "#Sublist\n",
        "\n",
        "Items=[\"Sachin\",\"Nisha\",\"Nikhil\",\"prakash\",\"nangu\",\"Panku\"]\n",
        "print(Items[0:4])"
      ],
      "metadata": {
        "colab": {
          "base_uri": "https://localhost:8080/"
        },
        "id": "_l-tYZXcFwZE",
        "outputId": "39444434-e03f-4ee4-e405-d4b63e72e240"
      },
      "execution_count": null,
      "outputs": [
        {
          "output_type": "stream",
          "name": "stdout",
          "text": [
            "['Sachin', 'Nisha', 'Nikhil', 'prakash']\n"
          ]
        }
      ]
    },
    {
      "cell_type": "code",
      "source": [
        "values=[10,40,20,70,90,50]\n",
        "print(type(values))\n",
        "print(values)\n",
        "\n",
        "values.sort(reverse=True)\n",
        "print(values)"
      ],
      "metadata": {
        "colab": {
          "base_uri": "https://localhost:8080/"
        },
        "id": "jqvom7gHXrH8",
        "outputId": "612cf7e0-1eca-4406-f906-421e89dded5e"
      },
      "execution_count": null,
      "outputs": [
        {
          "output_type": "stream",
          "name": "stdout",
          "text": [
            "<class 'list'>\n",
            "[10, 40, 20, 70, 90, 50]\n",
            "[90, 70, 50, 40, 20, 10]\n"
          ]
        }
      ]
    },
    {
      "cell_type": "code",
      "source": [
        "products=[\"Laptop\",\"Mobile\",\"Tv\",\"BOX\"]\n",
        "print(type(products))\n",
        "print(products)\n",
        "products.sort()\n",
        "print(products)\n",
        "products.sort(reverse=True)\n",
        "print(products)"
      ],
      "metadata": {
        "colab": {
          "base_uri": "https://localhost:8080/"
        },
        "id": "lbvaOfBewFPx",
        "outputId": "1af3a133-842d-4ba4-bd6b-5efa48346015"
      },
      "execution_count": null,
      "outputs": [
        {
          "output_type": "stream",
          "name": "stdout",
          "text": [
            "<class 'list'>\n",
            "['Laptop', 'Mobile', 'Tv', 'BOX']\n",
            "['BOX', 'Laptop', 'Mobile', 'Tv']\n",
            "['Tv', 'Mobile', 'Laptop', 'BOX']\n"
          ]
        }
      ]
    },
    {
      "cell_type": "code",
      "source": [
        "string1= \"Welcome to enraps\"\n",
        "list1=string1.split()"
      ],
      "metadata": {
        "id": "Qc1zNdlIwwMf"
      },
      "execution_count": null,
      "outputs": []
    },
    {
      "cell_type": "code",
      "source": [
        "print(list1)"
      ],
      "metadata": {
        "colab": {
          "base_uri": "https://localhost:8080/"
        },
        "id": "mNATDGgO1S4C",
        "outputId": "d411357b-6c7d-4bd6-91a6-4d8ec88d191c"
      },
      "execution_count": null,
      "outputs": [
        {
          "output_type": "stream",
          "name": "stdout",
          "text": [
            "['Welcome', 'to', 'enraps']\n"
          ]
        }
      ]
    },
    {
      "cell_type": "code",
      "source": [
        "print(type(list1))"
      ],
      "metadata": {
        "colab": {
          "base_uri": "https://localhost:8080/"
        },
        "id": "YEbhrmzK1Vf0",
        "outputId": "98be5b99-a299-4ac1-8506-4e872729255f"
      },
      "execution_count": null,
      "outputs": [
        {
          "output_type": "stream",
          "name": "stdout",
          "text": [
            "<class 'list'>\n"
          ]
        }
      ]
    },
    {
      "cell_type": "code",
      "source": [
        "string1= \"Welcome/to/enraps\"\n",
        "list2=string1.split(\"/\")"
      ],
      "metadata": {
        "id": "CcY1JqOP1Zte"
      },
      "execution_count": null,
      "outputs": []
    },
    {
      "cell_type": "code",
      "source": [
        "print(list2)"
      ],
      "metadata": {
        "colab": {
          "base_uri": "https://localhost:8080/"
        },
        "id": "4T2xNLXi1zQC",
        "outputId": "e43a2dd1-4eaf-492b-f7ae-112a6d5b18dc"
      },
      "execution_count": null,
      "outputs": [
        {
          "output_type": "stream",
          "name": "stdout",
          "text": [
            "['Welcome', 'to', 'enraps']\n"
          ]
        }
      ]
    },
    {
      "cell_type": "code",
      "source": [
        "string1=\"Welcome to python\"\n",
        "list2=list(string1)\n",
        "print(len(list2))\n",
        "print(list(string1))"
      ],
      "metadata": {
        "colab": {
          "base_uri": "https://localhost:8080/"
        },
        "id": "6YfJRx0C11aq",
        "outputId": "d58a8a5a-9ab1-4211-f83f-362614c7a983"
      },
      "execution_count": null,
      "outputs": [
        {
          "output_type": "stream",
          "name": "stdout",
          "text": [
            "17\n",
            "['W', 'e', 'l', 'c', 'o', 'm', 'e', ' ', 't', 'o', ' ', 'p', 'y', 't', 'h', 'o', 'n']\n"
          ]
        }
      ]
    },
    {
      "cell_type": "code",
      "source": [
        "string1=\"Welcome to python\"\n",
        "list2=list(string1)\n",
        "print(len(list2))\n",
        "list1=list(map(list,string1))\n",
        "print(list1)\n",
        "print(list(string1))"
      ],
      "metadata": {
        "colab": {
          "base_uri": "https://localhost:8080/"
        },
        "id": "3iUoBi1a28n3",
        "outputId": "3e128970-10f1-49cf-88e7-762427e53075"
      },
      "execution_count": null,
      "outputs": [
        {
          "output_type": "stream",
          "name": "stdout",
          "text": [
            "17\n",
            "[['W'], ['e'], ['l'], ['c'], ['o'], ['m'], ['e'], [' '], ['t'], ['o'], [' '], ['p'], ['y'], ['t'], ['h'], ['o'], ['n']]\n",
            "['W', 'e', 'l', 'c', 'o', 'm', 'e', ' ', 't', 'o', ' ', 'p', 'y', 't', 'h', 'o', 'n']\n"
          ]
        }
      ]
    },
    {
      "cell_type": "code",
      "source": [
        "#python-convert list to string\n",
        "# use of join function"
      ],
      "metadata": {
        "id": "o6oTRR3J6EOS"
      },
      "execution_count": null,
      "outputs": []
    },
    {
      "cell_type": "code",
      "source": [
        "my_list=['W', 'e', 'l', 'c', 'o', 'm', 'e', ' ', 't', 'o', ' ', 'p', 'y', 't', 'h', 'o', 'n']\n",
        "print(\" \".join(my_list))"
      ],
      "metadata": {
        "colab": {
          "base_uri": "https://localhost:8080/"
        },
        "id": "lyeujEf67TJQ",
        "outputId": "cb0aa7a5-28cc-4589-fbf7-40e0ed5f09d3"
      },
      "execution_count": null,
      "outputs": [
        {
          "output_type": "stream",
          "name": "stdout",
          "text": [
            "W e l c o m e   t o   p y t h o n\n"
          ]
        }
      ]
    },
    {
      "cell_type": "code",
      "source": [
        "#Creating List from USER Values"
      ],
      "metadata": {
        "id": "XfdbxEMx7rSN"
      },
      "execution_count": null,
      "outputs": []
    },
    {
      "cell_type": "code",
      "source": [
        "input_string=input(\"enter the list elements seperated by space:\")\n",
        "print(\"\\n\")\n",
        "user_list=input_string.split()\n",
        "print(user_list)\n",
        "integer_list=list(map(int, user_list))\n",
        "print(integer_list)"
      ],
      "metadata": {
        "colab": {
          "base_uri": "https://localhost:8080/"
        },
        "id": "MUFLGC-daDeL",
        "outputId": "60af9726-b5cb-40de-f31b-bd8cbe129347"
      },
      "execution_count": null,
      "outputs": [
        {
          "output_type": "stream",
          "name": "stdout",
          "text": [
            "enter the list elements seperated by space:1 2 3 4 5 6\n",
            "\n",
            "\n",
            "['1', '2', '3', '4', '5', '6']\n",
            "[1, 2, 3, 4, 5, 6]\n"
          ]
        }
      ]
    },
    {
      "cell_type": "code",
      "source": [
        "print(type(user_list[0]))\n",
        "print(type(integer_list[0]))"
      ],
      "metadata": {
        "colab": {
          "base_uri": "https://localhost:8080/"
        },
        "id": "5tdv9mGhavjy",
        "outputId": "4d106e15-1d8b-4f0b-b480-5a519ca42441"
      },
      "execution_count": null,
      "outputs": [
        {
          "output_type": "stream",
          "name": "stdout",
          "text": [
            "<class 'str'>\n",
            "<class 'int'>\n"
          ]
        }
      ]
    },
    {
      "cell_type": "markdown",
      "source": [
        "List methods learned:\n",
        "join method\n",
        "split method\n",
        "map function\n",
        "append\n",
        "extend"
      ],
      "metadata": {
        "id": "k7Ee_sYFfYxk"
      }
    },
    {
      "cell_type": "code",
      "source": [
        "arr=[1,2,3,4,5,6,7]\n",
        "summ=0\n",
        "for i in range(len(arr)):\n",
        "\n",
        "  summ+=int(arr[i])\n",
        "print(summ)"
      ],
      "metadata": {
        "id": "eOODmOl9a8Ck",
        "colab": {
          "base_uri": "https://localhost:8080/"
        },
        "outputId": "d3fd107e-90b7-445d-aabe-0daa32ae3b8e"
      },
      "execution_count": 5,
      "outputs": [
        {
          "output_type": "stream",
          "name": "stdout",
          "text": [
            "28\n"
          ]
        }
      ]
    },
    {
      "cell_type": "code",
      "source": [],
      "metadata": {
        "id": "13sKVTN7iI8J"
      },
      "execution_count": null,
      "outputs": []
    }
  ]
}