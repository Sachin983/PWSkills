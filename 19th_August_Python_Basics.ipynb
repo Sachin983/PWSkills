{
  "nbformat": 4,
  "nbformat_minor": 0,
  "metadata": {
    "colab": {
      "provenance": [],
      "gpuType": "T4",
      "authorship_tag": "ABX9TyM/Tq4MrES4z5m6zz8Rk8p/",
      "include_colab_link": true
    },
    "kernelspec": {
      "name": "python3",
      "display_name": "Python 3"
    },
    "language_info": {
      "name": "python"
    },
    "accelerator": "GPU"
  },
  "cells": [
    {
      "cell_type": "markdown",
      "metadata": {
        "id": "view-in-github",
        "colab_type": "text"
      },
      "source": [
        "<a href=\"https://colab.research.google.com/github/Sachin983/PWSkills/blob/main/19th_August_Python_Basics.ipynb\" target=\"_parent\"><img src=\"https://colab.research.google.com/assets/colab-badge.svg\" alt=\"Open In Colab\"/></a>"
      ]
    },
    {
      "cell_type": "markdown",
      "source": [
        "TOPIC: Python Basics Variable"
      ],
      "metadata": {
        "id": "mi6AzUkETCB9"
      }
    },
    {
      "cell_type": "code",
      "execution_count": null,
      "metadata": {
        "colab": {
          "base_uri": "https://localhost:8080/",
          "height": 36
        },
        "id": "kWbnwv_wJfqT",
        "outputId": "806254b4-52f8-4a4b-bb3d-beacc3fe85a0"
      },
      "outputs": [
        {
          "output_type": "execute_result",
          "data": {
            "text/plain": [
              "'1. Declare two variables, `x` and `y`, and assign them integer values. Swap the\\nvalues of these variables without using any temporary variable'"
            ],
            "application/vnd.google.colaboratory.intrinsic+json": {
              "type": "string"
            }
          },
          "metadata": {},
          "execution_count": 6
        }
      ],
      "source": [
        " \"\"\"1. Declare two variables, `x` and `y`, and assign them integer values. Swap the\n",
        "values of these variables without using any temporary variable\"\"\""
      ]
    },
    {
      "cell_type": "code",
      "source": [
        "#Taking user input to store the value of two variables\n",
        "x= int(input(\"Enter the value of x : \"))\n",
        "y= int(input(\"Enter the value of y : \"))\n",
        "# Print the original values\n",
        "print(\"Original values: x =\", x, \", y =\", y)\n",
        "\n",
        "# Swap values without using a temporary variable\n",
        "x = x + y\n",
        "y = x - y\n",
        "x = x - y\n",
        "\n",
        "# Print the swapped values\n",
        "print(\"Swapped values: x =\", x, \", y =\", y)"
      ],
      "metadata": {
        "colab": {
          "base_uri": "https://localhost:8080/"
        },
        "id": "vE1mUexrRvoJ",
        "outputId": "bbb97e73-cf17-4dd2-c2cc-85651bd11261"
      },
      "execution_count": 1,
      "outputs": [
        {
          "output_type": "stream",
          "name": "stdout",
          "text": [
            "Enter the value of x : 23\n",
            "Enter the value of y : 2\n",
            "Original values: x = 23 , y = 2\n",
            "Swapped values: x = 2 , y = 23\n"
          ]
        }
      ]
    },
    {
      "cell_type": "code",
      "source": [
        "3\"\"\"2. Create a program that calculates the area of a rectangle. Take the length and\n",
        "width as inputs from the user and store them in variables. Calculate and\n",
        "display the area.\"\"\""
      ],
      "metadata": {
        "id": "ZFyEaICZR2Af"
      },
      "execution_count": null,
      "outputs": []
    },
    {
      "cell_type": "code",
      "source": [
        "length = float(input(\"Enter the length of the rectangle:\"))\n",
        "breadth = float(input(\"Enter the breadth of the rectangle:\"))\n",
        "\n",
        "area= length*breadth\n",
        "print(\"The area of the rectangle is : \", area)"
      ],
      "metadata": {
        "id": "B-zb7EFlSQbw"
      },
      "execution_count": null,
      "outputs": []
    },
    {
      "cell_type": "code",
      "source": [
        "\"\"\"3. Write a Python program that converts temperatures from Celsius to\n",
        "Fahrenheit. Take the temperature in Celsius as input, store it in a variable,\n",
        "convert it to Fahrenheit, and display the result.\"\"\""
      ],
      "metadata": {
        "id": "DLwtYTeaSWrA"
      },
      "execution_count": null,
      "outputs": []
    },
    {
      "cell_type": "code",
      "source": [
        "# Take temperature in Celsius as input\n",
        "celsius_temperature = float(input(\"Enter temperature in Celsius: \"))\n",
        "\n",
        "# Convert Celsius to Fahrenheit\n",
        "fahrenheit_temperature = (celsius_temperature * 9/5) + 32\n",
        "\n",
        "# Display the result\n",
        "print(f\"{celsius_temperature} degrees Celsius is equal to {fahrenheit_temperature} degrees Fahrenheit.\")"
      ],
      "metadata": {
        "id": "vryc6C6WSgs5"
      },
      "execution_count": null,
      "outputs": []
    },
    {
      "cell_type": "markdown",
      "source": [
        "TOPIC: String Based Questions"
      ],
      "metadata": {
        "id": "rfNfWEBRS9KR"
      }
    },
    {
      "cell_type": "code",
      "source": [
        "\"\"\"1. Write a Python program that takes a string as input and prints the length of\n",
        "the string.\"\"\"\n"
      ],
      "metadata": {
        "colab": {
          "base_uri": "https://localhost:8080/",
          "height": 36
        },
        "id": "bKJtQZs9S_PP",
        "outputId": "96b55a48-2133-4a4f-83f3-18b3653f6483"
      },
      "execution_count": null,
      "outputs": [
        {
          "output_type": "execute_result",
          "data": {
            "text/plain": [
              "'1. Write a Python program that takes a string as input and prints the length of\\nthe string.'"
            ],
            "application/vnd.google.colaboratory.intrinsic+json": {
              "type": "string"
            }
          },
          "metadata": {},
          "execution_count": 8
        }
      ]
    },
    {
      "cell_type": "code",
      "source": [
        "str1=input(\"Enter the string: \")\n",
        "print(\"The length of the string is : \", len(str1))"
      ],
      "metadata": {
        "id": "Pvl0uiapTWX0",
        "colab": {
          "base_uri": "https://localhost:8080/"
        },
        "outputId": "327287aa-b4cd-4ee9-d409-f6561cbc0717"
      },
      "execution_count": 9,
      "outputs": [
        {
          "output_type": "stream",
          "name": "stdout",
          "text": [
            "Enter the string: sachin\n",
            "The length of the string is :  6\n"
          ]
        }
      ]
    },
    {
      "cell_type": "code",
      "source": [
        "\"\"\"2. Create a program that takes a sentence from the user and counts the number\n",
        "of vowels (a, e, i, o, u) in the string.\"\"\""
      ],
      "metadata": {
        "colab": {
          "base_uri": "https://localhost:8080/",
          "height": 36
        },
        "id": "vALVd8ZZT_fg",
        "outputId": "23da5ae3-bd08-44cc-e869-41096e6adff8"
      },
      "execution_count": 10,
      "outputs": [
        {
          "output_type": "execute_result",
          "data": {
            "text/plain": [
              "'2. Create a program that takes a sentence from the user and counts the number\\nof vowels (a, e, i, o, u) in the string.'"
            ],
            "application/vnd.google.colaboratory.intrinsic+json": {
              "type": "string"
            }
          },
          "metadata": {},
          "execution_count": 10
        }
      ]
    },
    {
      "cell_type": "code",
      "source": [],
      "metadata": {
        "colab": {
          "base_uri": "https://localhost:8080/"
        },
        "id": "RQUk1VIqUIGG",
        "outputId": "dfbfbb17-306a-44b0-8f1c-1d6af0e257fa"
      },
      "execution_count": 11,
      "outputs": [
        {
          "name": "stdout",
          "output_type": "stream",
          "text": [
            " Enter the string: 45 downing street New York City , seattle area\n"
          ]
        }
      ]
    },
    {
      "cell_type": "code",
      "source": [
        "Str1 = input(\" Enter the string: \")\n",
        "cntr=0\n",
        "for i in Str1:\n",
        "  if i=='a':\n",
        "    cntr+=1\n",
        "  if i=='e':\n",
        "    cntr+=1\n",
        "  if i=='i':\n",
        "    cntr+=1\n",
        "  if i=='o':\n",
        "    cntr+=1\n",
        "  if i=='u':\n",
        "    cntr+=1\n",
        "\n",
        "print(\"The number of vowels: \",cntr)"
      ],
      "metadata": {
        "colab": {
          "base_uri": "https://localhost:8080/"
        },
        "id": "t1PA4g7CVXWr",
        "outputId": "4c84437d-cf0e-43f0-a4a7-1d9aac626f31"
      },
      "execution_count": 16,
      "outputs": [
        {
          "output_type": "stream",
          "name": "stdout",
          "text": [
            " Enter the string: 45 downing street New York City , seattle area\n",
            "The number of vowels:  13\n"
          ]
        }
      ]
    },
    {
      "cell_type": "code",
      "source": [
        "\"\"\"3. Given a string, reverse the order of characters using string slicing and print\n",
        "the reversed string.\"\"\""
      ],
      "metadata": {
        "colab": {
          "base_uri": "https://localhost:8080/",
          "height": 36
        },
        "id": "ty0epHF3WU1H",
        "outputId": "5a53fb53-bbd4-454d-dad2-5fe5f17fdd69"
      },
      "execution_count": 17,
      "outputs": [
        {
          "output_type": "execute_result",
          "data": {
            "text/plain": [
              "'3. Given a string, reverse the order of characters using string slicing and print\\nthe reversed string.'"
            ],
            "application/vnd.google.colaboratory.intrinsic+json": {
              "type": "string"
            }
          },
          "metadata": {},
          "execution_count": 17
        }
      ]
    },
    {
      "cell_type": "code",
      "source": [
        "original_string = input(\"Enter the string that needs to be reversed: \")\n",
        "reversed_string = original_string[::-1]\n",
        "\n",
        "print(reversed_string)"
      ],
      "metadata": {
        "colab": {
          "base_uri": "https://localhost:8080/"
        },
        "id": "vgif2iQrXqm-",
        "outputId": "254dc998-e7ae-4b40-9a26-5cb8ff47a8f2"
      },
      "execution_count": 18,
      "outputs": [
        {
          "output_type": "stream",
          "name": "stdout",
          "text": [
            "Enter the string that needs to be reversed: Hi Sagarika\n",
            "akiragaS iH\n"
          ]
        }
      ]
    },
    {
      "cell_type": "code",
      "source": [
        "\"\"\"4. Write a program that takes a string as input and checks if it is a palindrome\n",
        "(reads the same forwards and backwards).\"\"\"\n"
      ],
      "metadata": {
        "colab": {
          "base_uri": "https://localhost:8080/",
          "height": 36
        },
        "id": "qdHp6CvMYlCc",
        "outputId": "1cfefc65-4236-4b77-c778-2e00b88f00aa"
      },
      "execution_count": 19,
      "outputs": [
        {
          "output_type": "execute_result",
          "data": {
            "text/plain": [
              "'4. Write a program that takes a string as input and checks if it is a palindrome\\n(reads the same forwards and backwards).'"
            ],
            "application/vnd.google.colaboratory.intrinsic+json": {
              "type": "string"
            }
          },
          "metadata": {},
          "execution_count": 19
        }
      ]
    },
    {
      "cell_type": "code",
      "source": [
        "original_string = input(\"Enter the string that needs to be reversed: \")\n",
        "reversed_string = original_string[::-1]\n",
        "\n",
        "if original_string==reversed_string:\n",
        "  print(\"It is a pallindrome\")"
      ],
      "metadata": {
        "colab": {
          "base_uri": "https://localhost:8080/"
        },
        "id": "D_1H0-CDYwy0",
        "outputId": "ce3f36b1-867d-4091-a704-9cd791011dc0"
      },
      "execution_count": 20,
      "outputs": [
        {
          "output_type": "stream",
          "name": "stdout",
          "text": [
            "Enter the string that needs to be reversed: 12121\n",
            "It is a pallindrome\n"
          ]
        }
      ]
    },
    {
      "cell_type": "code",
      "source": [
        "\"\"\"Create a program that takes a string as input and removes all the spaces from\n",
        "it. Print the modified string without spaces.\"\"\""
      ],
      "metadata": {
        "colab": {
          "base_uri": "https://localhost:8080/",
          "height": 36
        },
        "id": "5xWuUFrEZYEm",
        "outputId": "21fe13a3-1d01-4f1a-a7a2-a760c967c65a"
      },
      "execution_count": 21,
      "outputs": [
        {
          "output_type": "execute_result",
          "data": {
            "text/plain": [
              "'Create a program that takes a string as input and removes all the spaces from\\nit. Print the modified string without spaces.'"
            ],
            "application/vnd.google.colaboratory.intrinsic+json": {
              "type": "string"
            }
          },
          "metadata": {},
          "execution_count": 21
        }
      ]
    },
    {
      "cell_type": "code",
      "source": [
        "out_str=\"\"\n",
        "inp_str=input(\"Enter the string: \")\n",
        "for i in inp_str:\n",
        "  if i==\" \":\n",
        "    continue\n",
        "  else:\n",
        "    out_str=out_str+i\n",
        "print(\"output string without spaces: \",out_str)"
      ],
      "metadata": {
        "colab": {
          "base_uri": "https://localhost:8080/"
        },
        "id": "IPnLJipCZjFG",
        "outputId": "ab398f28-0734-4860-c022-83184f0914f7"
      },
      "execution_count": 23,
      "outputs": [
        {
          "output_type": "stream",
          "name": "stdout",
          "text": [
            "Enter the string: i love you\n",
            "output string without spaces:  iloveyou\n"
          ]
        }
      ]
    },
    {
      "cell_type": "code",
      "source": [],
      "metadata": {
        "id": "ZmcuzjHSaX-A"
      },
      "execution_count": null,
      "outputs": []
    }
  ]
}